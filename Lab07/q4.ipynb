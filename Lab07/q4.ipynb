{
 "cells": [
  {
   "cell_type": "code",
   "id": "initial_id",
   "metadata": {
    "collapsed": true,
    "ExecuteTime": {
     "end_time": "2025-02-05T05:00:08.815971Z",
     "start_time": "2025-02-05T05:00:08.810447Z"
    }
   },
   "source": [
    "import numpy as np\n",
    "import pandas as pd\n",
    "import matplotlib.pyplot as plt\n",
    "import seaborn as sns\n",
    "from scipy.spatial.distance import euclidean\n",
    "from sklearn.cluster import KMeans"
   ],
   "outputs": [],
   "execution_count": 11
  },
  {
   "metadata": {
    "ExecuteTime": {
     "end_time": "2025-02-05T05:00:19.616056Z",
     "start_time": "2025-02-05T05:00:19.611081Z"
    }
   },
   "cell_type": "code",
   "source": [
    "# Given data points\n",
    "points = np.array([[1, 1], [1, 3], [2, 2], [3, 1], [4, 4], [8, 1], [8, 3], [9, 2], [10, 1], [10, 3]])"
   ],
   "id": "ef629615c38c40c4",
   "outputs": [],
   "execution_count": 13
  },
  {
   "metadata": {
    "ExecuteTime": {
     "end_time": "2025-02-05T05:00:27.607623Z",
     "start_time": "2025-02-05T05:00:27.600189Z"
    }
   },
   "cell_type": "code",
   "source": [
    "# Initial cluster centers\n",
    "initial_centers = np.array([[1, 1], [4, 4]])\n",
    "\n",
    "# Compute distances from initial cluster centers\n",
    "distance_from_C1 = [euclidean(p, initial_centers[0]) for p in points]\n",
    "distance_from_C2 = [euclidean(p, initial_centers[1]) for p in points]\n",
    "\n",
    "# Assign clusters\n",
    "clusters = ['C1' if d1 < d2 else 'C2' for d1, d2 in zip(distance_from_C1, distance_from_C2)]"
   ],
   "id": "3b2a2d22595845c2",
   "outputs": [],
   "execution_count": 14
  },
  {
   "metadata": {
    "ExecuteTime": {
     "end_time": "2025-02-05T05:00:35.591801Z",
     "start_time": "2025-02-05T05:00:35.576164Z"
    }
   },
   "cell_type": "code",
   "source": [
    "# Convert to DataFrame\n",
    "data = pd.DataFrame(points, columns=['X', 'Y'])\n",
    "data['Distance from C1(1,1)'] = distance_from_C1\n",
    "data['Distance from C2(4,4)'] = distance_from_C2\n",
    "data['Cluster'] = clusters\n",
    "\n",
    "# Display results\n",
    "print(\"Initial Cluster Assignment:\")\n",
    "print(data)\n"
   ],
   "id": "21c6da49b715679b",
   "outputs": [
    {
     "name": "stdout",
     "output_type": "stream",
     "text": [
      "Initial Cluster Assignment:\n",
      "    X  Y  Distance from C1(1,1)  Distance from C2(4,4) Cluster\n",
      "0   1  1               0.000000               4.242641      C1\n",
      "1   1  3               2.000000               3.162278      C1\n",
      "2   2  2               1.414214               2.828427      C1\n",
      "3   3  1               2.000000               3.162278      C1\n",
      "4   4  4               4.242641               0.000000      C2\n",
      "5   8  1               7.000000               5.000000      C2\n",
      "6   8  3               7.280110               4.123106      C2\n",
      "7   9  2               8.062258               5.385165      C2\n",
      "8  10  1               9.000000               6.708204      C2\n",
      "9  10  3               9.219544               6.082763      C2\n"
     ]
    }
   ],
   "execution_count": 15
  },
  {
   "metadata": {
    "ExecuteTime": {
     "end_time": "2025-02-05T05:00:43.780277Z",
     "start_time": "2025-02-05T05:00:43.769995Z"
    }
   },
   "cell_type": "code",
   "source": [
    "# Applying K-Means with 2 clusters\n",
    "kmeans = KMeans(n_clusters=2, init=initial_centers, n_init=1, random_state=42)\n",
    "data['Cluster_KMeans'] = kmeans.fit_predict(points)"
   ],
   "id": "112e091829652f49",
   "outputs": [],
   "execution_count": 16
  },
  {
   "metadata": {
    "ExecuteTime": {
     "end_time": "2025-02-05T05:00:49.427569Z",
     "start_time": "2025-02-05T05:00:49.268997Z"
    }
   },
   "cell_type": "code",
   "source": [
    "# Plot the clusters in 2D space\n",
    "plt.figure(figsize=(8,6))\n",
    "sns.scatterplot(x=data['X'], y=data['Y'], hue=data['Cluster_KMeans'], palette='viridis', s=100, alpha=0.7)\n",
    "plt.scatter(kmeans.cluster_centers_[:, 0], kmeans.cluster_centers_[:, 1], s=300, c='red', marker='X', label='Centroids')\n",
    "plt.xlabel(\"X Coordinate\")\n",
    "plt.ylabel(\"Y Coordinate\")\n",
    "plt.title(\"K-Means Clustering\")\n",
    "plt.legend()\n",
    "plt.show()"
   ],
   "id": "5275076b24765f67",
   "outputs": [
    {
     "data": {
      "text/plain": [
       "<Figure size 800x600 with 1 Axes>"
      ],
      "image/png": "[encoded data removed]"
     },
     "metadata": {},
     "output_type": "display_data"
    }
   ],
   "execution_count": 17
  },
  {
   "metadata": {
    "ExecuteTime": {
     "end_time": "2025-02-05T05:01:06.553054Z",
     "start_time": "2025-02-05T05:01:06.546258Z"
    }
   },
   "cell_type": "code",
   "source": [
    "# Display new cluster centers\n",
    "print(\"New Cluster Centers:\")\n",
    "print(kmeans.cluster_centers_)"
   ],
   "id": "101d5400d8e89b8a",
   "outputs": [
    {
     "name": "stdout",
     "output_type": "stream",
     "text": [
      "New Cluster Centers:\n",
      "[[2.2 2.2]\n",
      " [9.  2. ]]\n"
     ]
    }
   ],
   "execution_count": 18
  },
  {
   "metadata": {},
   "cell_type": "code",
   "outputs": [],
   "execution_count": null,
   "source": "",
   "id": "f9f8a94d3a16f7fc"
  }
 ],
 "metadata": {
  "kernelspec": {
   "display_name": "Python 3",
   "language": "python",
   "name": "python3"
  },
  "language_info": {
   "codemirror_mode": {
    "name": "ipython",
    "version": 2
   },
   "file_extension": ".py",
   "mimetype": "text/x-python",
   "name": "python",
   "nbconvert_exporter": "python",
   "pygments_lexer": "ipython2",
   "version": "2.7.6"
  }
 },
 "nbformat": 4,
 "nbformat_minor": 5
}
